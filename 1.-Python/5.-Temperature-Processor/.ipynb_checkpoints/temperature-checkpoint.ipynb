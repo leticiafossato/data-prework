{
 "cells": [
  {
   "cell_type": "markdown",
   "metadata": {},
   "source": [
    "<img src=\"https://bit.ly/2VnXWr2\" width=\"100\" align=\"left\">"
   ]
  },
  {
   "cell_type": "markdown",
   "metadata": {},
   "source": [
    "# Temperature Sensor\n",
    "\n",
    "There is a temperature sensor in the processor of your company's server. The company wants to analyze the data provided by the sensor to decide if they should change the cooling system for a better one. As changing the cooling system is expensive and you are an excellent data analyst, you can't make a decision without basis.\n",
    "\n",
    "## Tools\n",
    "You don't necessarily need to use all the tools. Maybe you opt to use some of them or completely different ones, they are given to help you shape the exercise. Programming exercises can be solved in many different ways.\n",
    "1. Data structures: **lists**\n",
    "2. Loops: **list comprehension**\n",
    "3. Functions: **min, max, print, len**\n",
    "4. Conditional statements: **if-elif-else**\n",
    "\n",
    "## Tasks\n",
    "The temperatures measured throughout the 24 hours of a day are:"
   ]
  },
  {
   "cell_type": "code",
   "execution_count": null,
   "metadata": {},
   "outputs": [],
   "source": [
    "temperatures_C = [33, 66, 65, 0, 59, 60, 62, 64, 70, 76, 80, 81, 80, 83, 90, 79, 61, 53, 50, 49, 53, 48, 45, 39]"
   ]
  },
  {
   "cell_type": "markdown",
   "metadata": {},
   "source": [
    "The first element of the list is the temperature at 12am, the second element is the temperature at 1am, and so on. \n",
    "\n",
    "The company has decided that if one of the following events occurs, then the cooling system needs to be replaced for a new one to avoid damaging the processor.\n",
    "* More than 4 temperatures are greater than or equal to 70ºC.\n",
    "* Any temperature is above 80ºC.\n",
    "* The average temperature exceeds 65ºC.\n",
    "\n",
    "Follow the steps so that you can make the decision.\n",
    "\n",
    "#### 1. Find the minimum temperature of the day and store it in a variable."
   ]
  },
  {
   "cell_type": "code",
   "execution_count": 10,
   "metadata": {},
   "outputs": [
    {
     "name": "stdout",
     "output_type": "stream",
     "text": [
      "The minimun temperature is: 0\n"
     ]
    }
   ],
   "source": [
    "temperatures_C = [33, 66, 65, 0, 59, 60, 62, 64, 70, 76, 80, 81, 80, 83, 90, 79, 61, 53, 50, 49, 53, 48, 45, 39]\n",
    "min_temperature=min(temperatures_C)\n",
    "print(\"The minimun temperature is:\",min(temperatures_C))"
   ]
  },
  {
   "cell_type": "markdown",
   "metadata": {},
   "source": [
    "#### 2. Find the maximum temperature of the day and store it in a variable."
   ]
  },
  {
   "cell_type": "code",
   "execution_count": 5,
   "metadata": {},
   "outputs": [
    {
     "name": "stdout",
     "output_type": "stream",
     "text": [
      "The maximun temperature is: 90\n"
     ]
    }
   ],
   "source": [
    "temperatures_C = [33, 66, 65, 0, 59, 60, 62, 64, 70, 76, 80, 81, 80, 83, 90, 79, 61, 53, 50, 49, 53, 48, 45, 39]\n",
    "max_temperature=max(temperatures_C)\n",
    "print(\"The maximun temperature is:\",max(temperatures_C))"
   ]
  },
  {
   "cell_type": "markdown",
   "metadata": {},
   "source": [
    "#### 3. Create a list with the temperatures that are greater than or equal to 70ºC. Store it in a variable."
   ]
  },
  {
   "cell_type": "code",
   "execution_count": 7,
   "metadata": {},
   "outputs": [
    {
     "name": "stdout",
     "output_type": "stream",
     "text": [
      "List of temperatures that are greater than or equal to 70ºC : [70, 76, 80, 81, 80, 83, 90, 79]\n"
     ]
    }
   ],
   "source": [
    "temperatures_C = [33, 66, 65, 0, 59, 60, 62, 64, 70, 76, 80, 81, 80, 83, 90, 79, 61, 53, 50, 49, 53, 48, 45, 39]\n",
    "list_temperatures=[]\n",
    "for t in range(len(temperatures_C)):\n",
    "    if(temperatures_C[t]>=70):\n",
    "        list_temperatures.append(temperatures_C[t])\n",
    "print(\"List of temperatures that are greater than or equal to 70ºC :\",list_temperatures)"
   ]
  },
  {
   "cell_type": "markdown",
   "metadata": {},
   "source": [
    "#### 4. Find the average temperature of the day and store it in a variable."
   ]
  },
  {
   "cell_type": "code",
   "execution_count": 9,
   "metadata": {},
   "outputs": [
    {
     "name": "stdout",
     "output_type": "stream",
     "text": [
      "The average temperature is: 60.25\n"
     ]
    }
   ],
   "source": [
    "temperatures_C = [33, 66, 65, 0, 59, 60, 62, 64, 70, 76, 80, 81, 80, 83, 90, 79, 61, 53, 50, 49, 53, 48, 45, 39]\n",
    "average=sum(temperatures_C)/len(temperatures_C)\n",
    "print(\"The average temperature is:\", average)"
   ]
  },
  {
   "cell_type": "markdown",
   "metadata": {},
   "source": [
    "#### 5. Imagine that there was a sensor failure at 3am and the data for that specific hour was not recorded. How would you estimate the missing value? Replace the current value of the list at 3am for an estimation. "
   ]
  },
  {
   "cell_type": "code",
   "execution_count": 11,
   "metadata": {},
   "outputs": [
    {
     "name": "stdout",
     "output_type": "stream",
     "text": [
      "The temperature estimated of 3am is 62.0 °C\n"
     ]
    }
   ],
   "source": [
    "temperatures_C = [33, 66, 65, 0, 59, 60, 62, 64, 70, 76, 80, 81, 80, 83, 90, 79, 61, 53, 50, 49, 53, 48, 45, 39]\n",
    "temperatures_C [3]=(temperatures_C [2]+temperatures_C [4])/2\n",
    "print(\"The temperature estimated of 3am is\",temperatures_C[3], \"°C\")"
   ]
  },
  {
   "cell_type": "markdown",
   "metadata": {},
   "source": [
    "#### 6. Bonus: the maintenance staff is from the United States and does not understand the international metric system. Help them by converting the temperatures from Celsius to Fahrenheit.\n",
    "To know more about temperature conversion check this [link](https://en.wikipedia.org/wiki/Conversion_of_units_of_temperature).\n",
    "\n",
    "**Formula**: \n",
    "\n",
    "$F = 1.8 * C + 32$"
   ]
  },
  {
   "cell_type": "code",
   "execution_count": 12,
   "metadata": {},
   "outputs": [
    {
     "name": "stdout",
     "output_type": "stream",
     "text": [
      "Temperature in Fahrenheit:\n",
      " [91.4, 150.8, 149.0, 32.0, 138.2, 140.0, 143.60000000000002, 147.2, 158.0, 168.8, 176.0, 177.8, 176.0, 181.4, 194.0, 174.20000000000002, 141.8, 127.4, 122.0, 120.2, 127.4, 118.4, 113.0, 102.2]\n"
     ]
    }
   ],
   "source": [
    "temperatures_C = [33, 66, 65, 0, 59, 60, 62, 64, 70, 76, 80, 81, 80, 83, 90, 79, 61, 53, 50, 49, 53, 48, 45, 39]\n",
    "temperatures_farenheit=[]\n",
    "for x in range(len(temperatures_C)):\n",
    "    temperatures_C[x]=temperatures_C[x]*1.8+32\n",
    "    temperatures_farenheit.append(temperatures_C[x])\n",
    "print(\"Temperature in Fahrenheit:\\n\",temperatures_farenheit)"
   ]
  },
  {
   "cell_type": "markdown",
   "metadata": {},
   "source": [
    "#### 7. Make a decision!\n",
    "Now it's time to make a decision taking into account what you have seen until now. \n",
    "\n",
    "Remember that if one of the following events occurs, then the cooling system needs to be replaced for a new one to avoid damaging the processor.\n",
    "* More than 4 temperatures are greater than or equal to 70ºC.\n",
    "* Any temperature is above 80ºC.\n",
    "* The average temperature exceeds 65ºC.\n",
    "\n",
    "#### To make your decision, check if any of the three conditions above is met. You might need to use some of the variables you created in steps 1 to 6. Print a message to show if the cooling system needs to be changed or not."
   ]
  },
  {
   "cell_type": "code",
   "execution_count": 13,
   "metadata": {},
   "outputs": [
    {
     "name": "stdout",
     "output_type": "stream",
     "text": [
      "The cooling system needs to be replaced!!\n",
      "\n",
      " Reasons:\n",
      "- More than 4 temperatures are greater than or equal to 70ºC;\n",
      "- 3 temperatures are above 80ºC;\n"
     ]
    }
   ],
   "source": [
    "temperatures_C = [33, 66, 65, 0, 59, 60, 62, 64, 70, 76, 80, 81, 80, 83, 90, 79, 61, 53, 50, 49, 53, 48, 45, 39]\n",
    "list_temperatures=[] \n",
    "list_temperatures_above_80=[] \n",
    "for t in range(len(temperatures_C)):\n",
    "#Verifying if more than 4 temperatures are greater than or equal to 70ºC.\n",
    "    if(temperatures_C[t]>=70):\n",
    "        list_temperatures.append(temperatures_C[t])\n",
    "#Any temperature is above 80ºC.\n",
    "    if(temperatures_C[t]>80):\n",
    "        list_temperatures_above_80.append(temperatures_C[t])\n",
    "#The average temperature exceeds 65ºC.\n",
    "average=sum(temperatures_C)/len(temperatures_C)\n",
    "    \n",
    "if((len(list_temperatures)>4)|(len(list_temperatures_above_80)!=0)|(average>65)):\n",
    "    print(\"The cooling system needs to be replaced!!\")\n",
    "else:\n",
    "    print(\"The cooling system don't need to be replaced!!\")\n",
    "\n",
    "\n",
    "print(\"\\n Reasons:\")\n",
    "if(len(list_temperatures)>4):\n",
    "    print(\"- More than 4 temperatures are greater than or equal to 70ºC;\")\n",
    "if(len(list_temperatures_above_80)):\n",
    "    print(\"-\",len(list_temperatures_above_80),\"temperatures are above 80ºC;\")\n",
    "if(average>65):\n",
    "    print(\"- Average is greater than 65;\")"
   ]
  },
  {
   "cell_type": "markdown",
   "metadata": {},
   "source": [
    "## Bonus\n",
    "\n",
    "The company has decided that the decision you made is not valid. They want you to analyze the data again but this time, the conditions that need to be met in order to change the cooling system are different.\n",
    "\n",
    "This time, if one of the following events occurs, then the cooling system needs to be replaced:\n",
    "* The temperature is greater than 70ºC during more than 4 consecutive hours.\n",
    "* Any temperature is above 80ºC.\n",
    "* The average temperature exceeds 65ºC.\n",
    "\n",
    "Follow the steps so that you can make the decision.\n",
    "\n",
    "#### 1. Create a list with the hours where the temperature is greater than 70ºC. Store it in a variable."
   ]
  },
  {
   "cell_type": "code",
   "execution_count": 21,
   "metadata": {},
   "outputs": [
    {
     "name": "stdout",
     "output_type": "stream",
     "text": [
      "List with hours where the temperature is greater than 70ºC: [9, 10, 11, 12, 13, 14, 15]\n"
     ]
    }
   ],
   "source": [
    "temperatures_C = [33, 66, 65, 0, 59, 60, 62, 64, 70, 76, 80, 81, 80, 83, 90, 79, 61, 53, 50, 49, 53, 48, 45, 39]\n",
    "\n",
    "#Creating hour list:\n",
    "hour_list=[]\n",
    "for i in range(len(temperatures_C)):\n",
    "        hour_list.append(i)\n",
    "\n",
    "#Criando uma lista de tuples com temperatura e horario        \n",
    "tuple_list=[]\n",
    "for i in range(len(temperatures_C)):\n",
    "    hour_list_elements=(temperatures_C[i],hour_list[i])\n",
    "    tuple_list.append(hour_list_elements)\n",
    "\n",
    "#Finding which are the temperature greather than 70°C:\n",
    "greater_temp=[]\n",
    "for i in range((len(tuple_list))):\n",
    "    if(tuple_list[i][0]>70):\n",
    "        greater_temp.append(tuple_list[i][1])\n",
    "print(\"List with hours where the temperature is greater than 70ºC:\",greater_temp)"
   ]
  },
  {
   "cell_type": "markdown",
   "metadata": {},
   "source": [
    "#### 2. Check if the list you created in step 1 has more than 4 consecutive hours. "
   ]
  },
  {
   "cell_type": "code",
   "execution_count": 20,
   "metadata": {},
   "outputs": [
    {
     "name": "stdout",
     "output_type": "stream",
     "text": [
      "List with hours where the temperature is greater than 70ºC: [9, 10, 11, 12, 13, 14, 15]\n",
      "The list has more than 4 consecutive hours\n"
     ]
    }
   ],
   "source": [
    "temperatures_C = [33, 66, 65, 0, 59, 60, 62, 64, 70, 76, 80, 81, 80, 83, 90, 79, 61, 53, 50, 49, 53, 48, 45, 39]\n",
    "\n",
    "#Creating hour list:\n",
    "hour_list=[]\n",
    "for i in range(len(temperatures_C)):\n",
    "        hour_list.append(i)\n",
    "\n",
    "#Criando uma lista de tuples com temperatura e horario        \n",
    "tuple_list=[]\n",
    "for i in range(len(temperatures_C)):\n",
    "    hour_list_elements=(temperatures_C[i],hour_list[i])\n",
    "    tuple_list.append(hour_list_elements)\n",
    "\n",
    "#Finding which are the temperature greather than 70°C:\n",
    "greater_temp=[]\n",
    "for i in range((len(tuple_list))):\n",
    "    if(tuple_list[i][0]>70):\n",
    "        greater_temp.append(tuple_list[i][1])\n",
    "print(\"List with hours where the temperature is greater than 70ºC:\",greater_temp)\n",
    "\n",
    "new=[]\n",
    "#Verificando se há 4 horários seguidos:\n",
    "for a in range(len(greater_temp)):\n",
    "    if((greater_temp[a]==greater_temp[a-1]+1)&(greater_temp[a-1]==greater_temp[a-2]+1)&(greater_temp[a-2]==greater_temp[a-3]+1)):\n",
    "        new.append(greater_temp[a]==greater_temp[a-1]+1)\n",
    "\n",
    "if(len(new)!=0):\n",
    "    print(\"The list has more than 4 consecutive hours\")"
   ]
  },
  {
   "cell_type": "markdown",
   "metadata": {},
   "source": [
    "#### 3. Make the decision!\n",
    "To make your decision, check if any of the three conditions is met. Print a message to show if the cooling system needs to be changed or not."
   ]
  },
  {
   "cell_type": "code",
   "execution_count": 22,
   "metadata": {},
   "outputs": [
    {
     "name": "stdout",
     "output_type": "stream",
     "text": [
      "The cooling system needs to be replaced!!\n",
      "\n",
      " Reasons:\n",
      "- More than 4 temperatures consecutives are greater than or equal to 70ºC;\n",
      "- 3 temperatures are above 80ºC;\n"
     ]
    }
   ],
   "source": [
    "temperatures_C = [33, 66, 65, 0, 59, 60, 62, 64, 70, 76, 80, 81, 80, 83, 90, 79, 61, 53, 50, 49, 53, 48, 45, 39]\n",
    "\n",
    "#Creating hour list:\n",
    "hour_list=[]\n",
    "for i in range(len(temperatures_C)):\n",
    "        hour_list.append(i)\n",
    "\n",
    "#Criando uma lista de tuples com temperatura e horario        \n",
    "tuple_list=[]\n",
    "for i in range(len(temperatures_C)):\n",
    "    hour_list_elements=(temperatures_C[i],hour_list[i])\n",
    "    tuple_list.append(hour_list_elements)\n",
    "\n",
    "#Finding which are the temperature greather than 70°C:\n",
    "greater_temp=[]\n",
    "for i in range((len(tuple_list))):\n",
    "    if(tuple_list[i][0]>70):\n",
    "        greater_temp.append(tuple_list[i][1])\n",
    "#print(\"List with hours where the temperature is greater than 70ºC:\",greater_temp)\n",
    "\n",
    "new=[]\n",
    "#Verificando se há 4 horários seguidos:\n",
    "for a in range(len(greater_temp)):\n",
    "    if((greater_temp[a]==greater_temp[a-1]+1)&(greater_temp[a-1]==greater_temp[a-2]+1)&(greater_temp[a-2]==greater_temp[a-3]+1)):\n",
    "        new.append(greater_temp[a]==greater_temp[a-1]+1)\n",
    "    \n",
    "#Any temperature is above 80ºC.\n",
    "list_temperatures_above_80=[] \n",
    "for t in range(len(temperatures_C)):\n",
    "    if(temperatures_C[t]>80):\n",
    "        list_temperatures_above_80.append(temperatures_C[t])\n",
    "\n",
    "#The average temperature exceeds 65ºC.\n",
    "average=sum(temperatures_C)/len(temperatures_C)\n",
    "\n",
    "\n",
    "if((len(new)!=0)|(len(list_temperatures_above_80)!=0)|(average>65)):\n",
    "    print(\"The cooling system needs to be replaced!!\")\n",
    "else:\n",
    "    print(\"The cooling system don't need to be replaced!!\")\n",
    "\n",
    "print(\"\\n Reasons:\")\n",
    "if(len(list_temperatures)>4):\n",
    "    print(\"- More than 4 temperatures consecutives are greater than or equal to 70ºC;\")\n",
    "if(len(list_temperatures_above_80)):\n",
    "    print(\"-\",len(list_temperatures_above_80),\"temperatures are above 80ºC;\")\n",
    "if(average>65):\n",
    "    print(\"- Average is greater than 65;\")"
   ]
  },
  {
   "cell_type": "markdown",
   "metadata": {},
   "source": [
    "#### 4. Find the average value of the temperature lists (ºC and ºF). What is the relation between both average values?"
   ]
  },
  {
   "cell_type": "code",
   "execution_count": 34,
   "metadata": {},
   "outputs": [
    {
     "name": "stdout",
     "output_type": "stream",
     "text": [
      "Average °C: 60.25\n",
      "Average °F: 140.45\n",
      "The relation Average°C/Average°F is: 0.42897828408686367\n"
     ]
    }
   ],
   "source": [
    "temperatures_C = [33, 66, 65, 0, 59, 60, 62, 64, 70, 76, 80, 81, 80, 83, 90, 79, 61, 53, 50, 49, 53, 48, 45, 39]\n",
    "temperaturesF=0\n",
    "temperatures_farenheit=[]\n",
    "for x in range(len(temperatures_C)):\n",
    "    temperature=(temperatures_C[x]*1.8)+32\n",
    "    temperatures_farenheit.append(temperature)\n",
    "average_c=sum(temperatures_C)/len(temperatures_C)\n",
    "average_f=sum(temperatures_farenheit)/len(temperatures_farenheit)\n",
    "print(\"Average °C:\",average_c)\n",
    "print(\"Average °F:\",average_f)\n",
    "relation=average_c/average_f\n",
    "print(\"The relation Average°C/Average°F is:\",relation)"
   ]
  },
  {
   "cell_type": "markdown",
   "metadata": {},
   "source": [
    "#### 5. Find the standard deviation of the temperature lists (ºC and ºF). What is the relation between both standard deviations?"
   ]
  },
  {
   "cell_type": "code",
   "execution_count": 35,
   "metadata": {},
   "outputs": [
    {
     "name": "stdout",
     "output_type": "stream",
     "text": [
      "Standard Deviation °C: 19.285681216902866\n",
      "Standard Deviation °F: 34.71422619042516\n",
      "The relation is: 0.5555555555555556\n"
     ]
    }
   ],
   "source": [
    "temperatures_C = [33, 66, 65, 0, 59, 60, 62, 64, 70, 76, 80, 81, 80, 83, 90, 79, 61, 53, 50, 49, 53, 48, 45, 39]\n",
    "temperatures_farenheit=[]\n",
    "for x in range(len(temperatures_C)):\n",
    "    temperature=(temperatures_C[x]*1.8)+32\n",
    "    temperatures_farenheit.append(temperature)\n",
    "average_c=sum(temperatures_C)/len(temperatures_C)\n",
    "average_f=sum(temperatures_farenheit)/len(temperatures_farenheit)\n",
    "\n",
    "deviation_c_list=[]\n",
    "deviation_f_list=[]\n",
    "for i in range(len(temperatures_C)):\n",
    "    deviation_c=(temperatures_C[i]-average_c)**2\n",
    "    deviation_c_list.append(deviation_c)\n",
    "    deviation_f=(temperatures_farenheit[i]-average_f)**2\n",
    "    deviation_f_list.append(deviation_f)\n",
    "    \n",
    "C=(sum(deviation_c_list)/len(deviation_c_list))**(1/2)\n",
    "F=(sum(deviation_f_list)/len(deviation_f_list))**(1/2)\n",
    "print(\"Standard Deviation °C:\",C)\n",
    "print(\"Standard Deviation °F:\",F)\n",
    "print(\"The relation is:\",C/F)"
   ]
  }
 ],
 "metadata": {
  "kernelspec": {
   "display_name": "Python 3",
   "language": "python",
   "name": "python3"
  },
  "language_info": {
   "codemirror_mode": {
    "name": "ipython",
    "version": 3
   },
   "file_extension": ".py",
   "mimetype": "text/x-python",
   "name": "python",
   "nbconvert_exporter": "python",
   "pygments_lexer": "ipython3",
   "version": "3.8.5"
  }
 },
 "nbformat": 4,
 "nbformat_minor": 2
}
