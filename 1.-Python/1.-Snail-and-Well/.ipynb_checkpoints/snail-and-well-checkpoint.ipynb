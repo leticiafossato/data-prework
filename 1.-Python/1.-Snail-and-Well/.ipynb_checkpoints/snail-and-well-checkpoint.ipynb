{
 "cells": [
  {
   "cell_type": "markdown",
   "metadata": {},
   "source": [
    "<img src=\"https://bit.ly/2VnXWr2\" width=\"100\" align=\"left\">"
   ]
  },
  {
   "cell_type": "markdown",
   "metadata": {},
   "source": [
    "# The Snail and the Well\n",
    "\n",
    "A snail falls at the bottom of a 125 cm well. Each day the snail rises 30 cm. But at night, while sleeping, slides 20 cm because the walls are wet. How many days does it take for the snail to escape the well?\n",
    "\n",
    "**Hint**: The snail gets out of the well when it surpasses the 125cm of height.\n",
    "\n",
    "## Tools\n",
    "\n",
    "1. Loop: **while**\n",
    "2. Conditional statements: **if-else**\n",
    "3. Function: **print()**\n",
    "\n",
    "## Tasks\n",
    "\n",
    "#### 1. Assign the challenge data to variables with representative names: `well_height`, `daily_distance`, `nightly_distance` and `snail_position`."
   ]
  },
  {
   "cell_type": "code",
   "execution_count": null,
   "metadata": {},
   "outputs": [],
   "source": [
    "well_height=125\n",
    "daily_distance=30\n",
    "nightly_distance=20\n",
    "snail_position=0"
   ]
  },
  {
   "cell_type": "markdown",
   "metadata": {},
   "source": [
    "#### 2. Create a variable `days` to keep count of the days that pass until the snail escapes the well. "
   ]
  },
  {
   "cell_type": "code",
   "execution_count": null,
   "metadata": {},
   "outputs": [],
   "source": [
    "days=0"
   ]
  },
  {
   "cell_type": "markdown",
   "metadata": {},
   "source": [
    "#### 3. Find the solution to the challenge using the variables defined above. "
   ]
  },
  {
   "cell_type": "code",
   "execution_count": null,
   "metadata": {},
   "outputs": [],
   "source": [
    "while(snail_position<well_height):\n",
    "    snail_position=snail_position+daily_distance-nightly_distance\n",
    "    days=days+1"
   ]
  },
  {
   "cell_type": "markdown",
   "metadata": {},
   "source": [
    "#### 4. Print the solution."
   ]
  },
  {
   "cell_type": "code",
   "execution_count": null,
   "metadata": {},
   "outputs": [],
   "source": [
    "print(\"It will take \", days, \"days\")"
   ]
  },
  {
   "cell_type": "markdown",
   "metadata": {},
   "source": [
    "## Bonus\n",
    "The distance traveled by the snail each day is now defined by a list.\n",
    "```\n",
    "advance_cm = [30, 21, 33, 77, 44, 45, 23, 45, 12, 34, 55]\n",
    "```\n",
    "On the first day, the snail rises 30cm but during the night it slides 20cm. On the second day, the snail rises 21cm but during the night it slides 20cm, and so on. \n",
    "\n",
    "#### 1. How many days does it take for the snail to escape the well?\n",
    "Follow the same guidelines as in the previous challenge.\n",
    "\n",
    "**Hint**: Remember that the snail gets out of the well when it surpasses the 125cm of height."
   ]
  },
  {
   "cell_type": "code",
   "execution_count": 3,
   "metadata": {},
   "outputs": [
    {
     "name": "stdout",
     "output_type": "stream",
     "text": [
      "It will take 6 days\n"
     ]
    }
   ],
   "source": [
    "well_height=125\n",
    "nightly_distance=20\n",
    "snail_position=0\n",
    "days=0\n",
    "advance_cm = [30, 21, 33, 77, 44, 45, 23, 45, 12, 34, 55]\n",
    "\n",
    "for daily_distance in advance_cm:\n",
    "    if(snail_position<well_height):\n",
    "        snail_position= snail_position+daily_distance-nightly_distance\n",
    "        days=days+1\n",
    "   \n",
    "print(\"It will take\", days, \"days\")"
   ]
  },
  {
   "cell_type": "markdown",
   "metadata": {},
   "source": [
    "#### 2. What is its maximum displacement in one day? And its minimum? Calculate the displacement using only the travel distance of the days used to get out of the well. \n",
    "**Hint**: Remember that displacement means the total distance risen taking into account that the snail slides at night.  "
   ]
  },
  {
   "cell_type": "code",
   "execution_count": 1,
   "metadata": {},
   "outputs": [
    {
     "name": "stdout",
     "output_type": "stream",
     "text": [
      "The maximum displacement in one day is 57\n",
      "The minimum displacement in one day is 1\n"
     ]
    }
   ],
   "source": [
    "well_height=125\n",
    "nightly_distance=20\n",
    "snail_position=0\n",
    "days=0\n",
    "advance_cm = [30, 21, 33, 77, 44, 45, 23, 45, 12, 34, 55]\n",
    "\n",
    "displacement_list=[]\n",
    "for daily_distance in advance_cm:\n",
    "    if(snail_position<well_height):\n",
    "        snail_position= snail_position+daily_distance-nightly_distance\n",
    "        days=days+1\n",
    "        displacement=daily_distance-nightly_distance\n",
    "        displacement_list.append(displacement)\n",
    "        \n",
    "print(\"The maximum displacement in one day is\", max(displacement_list))\n",
    "print(\"The minimum displacement in one day is\", min(displacement_list))"
   ]
  },
  {
   "cell_type": "markdown",
   "metadata": {},
   "source": [
    "#### 3. What is its average progress? Take into account the snail slides at night."
   ]
  },
  {
   "cell_type": "code",
   "execution_count": 4,
   "metadata": {},
   "outputs": [
    {
     "name": "stdout",
     "output_type": "stream",
     "text": [
      "The average progress is 21.666666666666668\n"
     ]
    }
   ],
   "source": [
    "well_height=125\n",
    "nightly_distance=20\n",
    "snail_position=0\n",
    "days=0\n",
    "advance_cm = [30, 21, 33, 77, 44, 45, 23, 45, 12, 34, 55]\n",
    "\n",
    "displacement_list=[]\n",
    "for daily_distance in advance_cm:\n",
    "    if(snail_position<well_height):\n",
    "        snail_position= snail_position+daily_distance-nightly_distance\n",
    "        days=days+1\n",
    "        displacement=daily_distance-nightly_distance\n",
    "        displacement_list.append(displacement)\n",
    "\n",
    "        \n",
    "average=sum(displacement_list)/days\n",
    "print(\"The average progress is\", average)"
   ]
  },
  {
   "cell_type": "markdown",
   "metadata": {},
   "source": [
    "#### 4. What is the standard deviation of its displacement? Take into account the snail slides at night."
   ]
  },
  {
   "cell_type": "code",
   "execution_count": 7,
   "metadata": {},
   "outputs": [
    {
     "name": "stdout",
     "output_type": "stream",
     "text": [
      "The standard deviation of its displacement is 17.81073334319006\n"
     ]
    }
   ],
   "source": [
    "well_height=125\n",
    "nightly_distance=20\n",
    "snail_position=0\n",
    "days=0\n",
    "advance_cm = [30, 21, 33, 77, 44, 45, 23, 45, 12, 34, 55]\n",
    "displacement_list=[]\n",
    "for daily_distance in advance_cm:\n",
    "    if(snail_position<well_height):\n",
    "        snail_position= snail_position+daily_distance-nightly_distance\n",
    "        days=days+1\n",
    "        displacement=daily_distance-nightly_distance\n",
    "        displacement_list.append(displacement)\n",
    "\n",
    "#Cálculo da média do displacement para utilização no desvio padrão\n",
    "average=sum(displacement_list)/days\n",
    "\n",
    "#Criação de uma lista para cálculo do desvio padrão\n",
    "standard_deviation_list=[]\n",
    "for standard_deviation in displacement_list:\n",
    "    standard_deviation=(standard_deviation-average)**2\n",
    "    standard_deviation_list.append(standard_deviation)\n",
    "\n",
    "sum(standard_deviation_list)\n",
    "parcial_standard_deviation=sum(standard_deviation_list)/days\n",
    "answer=parcial_standard_deviation**(1/2)\n",
    "print(\"The standard deviation of its displacement is\", answer)"
   ]
  }
 ],
 "metadata": {
  "kernelspec": {
   "display_name": "Python 3",
   "language": "python",
   "name": "python3"
  },
  "language_info": {
   "codemirror_mode": {
    "name": "ipython",
    "version": 3
   },
   "file_extension": ".py",
   "mimetype": "text/x-python",
   "name": "python",
   "nbconvert_exporter": "python",
   "pygments_lexer": "ipython3",
   "version": "3.8.5"
  }
 },
 "nbformat": 4,
 "nbformat_minor": 2
}
