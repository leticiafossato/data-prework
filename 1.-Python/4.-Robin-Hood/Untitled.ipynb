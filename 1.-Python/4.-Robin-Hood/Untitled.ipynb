{
 "cells": [
  {
   "cell_type": "code",
   "execution_count": 60,
   "metadata": {},
   "outputs": [
    {
     "name": "stdout",
     "output_type": "stream",
     "text": [
      "Gandalf spell: [50, 40, 40, 10, 50, 10, 40, 50, 50, 50]\n",
      "Saruman spell: [45, 45, 25, 50, 25, 40, 10, 45, 10, 10]\n",
      "3\n",
      "0\n",
      "Gandalf wins!\n"
     ]
    }
   ],
   "source": [
    "POWER = {\n",
    "    'Fireball': 50, \n",
    "    'Lightning bolt': 40, \n",
    "    'Magic arrow': 10, \n",
    "    'Black Tentacles': 25, \n",
    "    'Contagion': 45\n",
    "}\n",
    "\n",
    "gandalf = ['Fireball', 'Lightning bolt', 'Lightning bolt', 'Magic arrow', 'Fireball', \n",
    "           'Magic arrow', 'Lightning bolt', 'Fireball', 'Fireball', 'Fireball']\n",
    "saruman = ['Contagion', 'Contagion', 'Black Tentacles', 'Fireball', 'Black Tentacles', \n",
    "           'Lightning bolt', 'Magic arrow', 'Contagion', 'Magic arrow', 'Magic arrow']\n",
    "spells=0\n",
    "gandalf_wins=0\n",
    "saruman_wins=0\n",
    "gandalf_power=[]\n",
    "for spells in range(len(gandalf)):\n",
    "    gandalf_power.append(POWER[gandalf[spells]])\n",
    "\n",
    "saruman_power=[]\n",
    "for spells in range(len(saruman)):\n",
    "    saruman_power.append(POWER[saruman[spells]])\n",
    "print(\"Gandalf spell:\",gandalf_power)\n",
    "print(\"Saruman spell:\",saruman_power)\n",
    "\n",
    "for spells in range(len(gandalf_power)):\n",
    "    if (gandalf_power[spells]>saruman_power[spells]):\n",
    "         if ((gandalf_power[spells]>saruman_power[spells-1])):\n",
    "                if ((gandalf_power[spells-1]>saruman_power[spells-2])):\n",
    "                    gandalf_wins=gandalf_wins+1\n",
    "    else:\n",
    "        gandalf_wins=gandalf_wins\n",
    "\n",
    "for spells in range(len(saruman_power)):\n",
    "    if (saruman_power[spells]>gandalf_power[spells]):\n",
    "         if ((saruman_power[spells-1]>gandalf_power[spells-1])):\n",
    "                if ((saruman_power[spells-2]>gandalf_power[spells-2])):\n",
    "                    saruman_wins=saruman_wins+1\n",
    "    else:\n",
    "        saruman_wins=saruman_wins\n",
    "print(gandalf_wins)\n",
    "print(saruman_wins)\n",
    "\n",
    "if(gandalf_wins>saruman_wins):\n",
    "    print(\"Gandalf wins!\")\n",
    "if(gandalf_wins<saruman_wins):\n",
    "    print(\"Saruman wins!\")\n",
    "if(gandalf_wins==saruman_wins):\n",
    "    print(\"Tie!\")\n"
   ]
  },
  {
   "cell_type": "code",
   "execution_count": 62,
   "metadata": {},
   "outputs": [
    {
     "name": "stdout",
     "output_type": "stream",
     "text": [
      "Gandalf spell: [50, 40, 40, 10, 50, 10, 40, 50, 50, 50]\n",
      "Saruman spell: [45, 45, 25, 50, 25, 40, 10, 45, 10, 10]\n",
      "Gandalf wins!\n",
      "2\n",
      "0\n"
     ]
    }
   ],
   "source": [
    "POWER = {\n",
    "    'Fireball': 50, \n",
    "    'Lightning bolt': 40, \n",
    "    'Magic arrow': 10, \n",
    "    'Black Tentacles': 25, \n",
    "    'Contagion': 45\n",
    "}\n",
    "\n",
    "gandalf = ['Fireball', 'Lightning bolt', 'Lightning bolt', 'Magic arrow', 'Fireball', \n",
    "           'Magic arrow', 'Lightning bolt', 'Fireball', 'Fireball', 'Fireball']\n",
    "saruman = ['Contagion', 'Contagion', 'Black Tentacles', 'Fireball', 'Black Tentacles', \n",
    "           'Lightning bolt', 'Magic arrow', 'Contagion', 'Magic arrow', 'Magic arrow']\n",
    "spells=0\n",
    "gandalf_wins=0\n",
    "saruman_wins=0\n",
    "gandalf_power=[]\n",
    "for spells in range(len(gandalf)):\n",
    "    gandalf_power.append(POWER[gandalf[spells]])\n",
    "\n",
    "saruman_power=[]\n",
    "for spells in range(len(saruman)):\n",
    "    saruman_power.append(POWER[saruman[spells]])\n",
    "print(\"Gandalf spell:\",gandalf_power)\n",
    "print(\"Saruman spell:\",saruman_power)\n",
    "\n",
    "for spells in range(len(gandalf_power)-2):\n",
    "    if (gandalf_power[spells]>saruman_power[spells]):\n",
    "         if ((gandalf_power[spells+1]>saruman_power[spells+1])):\n",
    "                if ((gandalf_power[spells+2]>saruman_power[spells+2])):\n",
    "                    gandalf_wins=gandalf_wins+1\n",
    "    else:\n",
    "        gandalf_wins=gandalf_wins\n",
    "\n",
    "for spells in range(len(saruman_power)-2):\n",
    "    if (saruman_power[spells]>gandalf_power[spells]):\n",
    "         if ((saruman_power[spells+1]>gandalf_power[spells+1])):\n",
    "                if ((saruman_power[spells+2]>gandalf_power[spells+2])):\n",
    "                    saruman_wins=saruman_wins+1\n",
    "    else:\n",
    "        saruman_wins=saruman_wins\n",
    "if(gandalf_wins>saruman_wins):\n",
    "    print(\"Gandalf wins!\")\n",
    "if(gandalf_wins<saruman_wins):\n",
    "    print(\"Saruman wins!\")\n",
    "if(gandalf_wins==saruman_wins):\n",
    "    print(\"Tie!\")\n",
    "    \n",
    "    \n",
    "print(gandalf_wins)\n",
    "print(saruman_wins)"
   ]
  },
  {
   "cell_type": "code",
   "execution_count": 69,
   "metadata": {},
   "outputs": [
    {
     "name": "stdout",
     "output_type": "stream",
     "text": [
      "The maximum occupation of the bus is on bus_stop 5 with 14 passengers inside the bus.\n"
     ]
    }
   ],
   "source": [
    "stops = [(10, 0), (4, 1), (3, 5), (3, 4), (5, 1), (1, 5), (5, 8), (4, 6), (2, 3)]\n",
    "total_passengers=0\n",
    "number_of_stops=len(stops)\n",
    "list_passengers=[]\n",
    "for a in range(len(stops)):\n",
    "    for b in range(2):\n",
    "        if(b==0):\n",
    "            total_passengers=total_passengers+stops[a][b]\n",
    "        else:\n",
    "            total_passengers=total_passengers-stops[a][b]\n",
    "            list_passengers.append(total_passengers)\n",
    "for a in range(len(list_passengers)):\n",
    "    if (list_passengers[a]==max(list_passengers)):\n",
    "        print(\"The maximum occupation of the bus is on bus_stop\",a+1, \"with\",max(list_passengers),\"passengers inside the bus.\")"
   ]
  },
  {
   "cell_type": "code",
   "execution_count": 75,
   "metadata": {},
   "outputs": [
    {
     "name": "stdout",
     "output_type": "stream",
     "text": [
      "[6, 2, 8, 3, 3, 6, 3, 8, 8, 2, 6, 2, 8, 3, 3, 6, 3, 8, 8, 2, 12, 12]\n",
      "[12, 12]\n",
      "The number of arrows that won't hit the target is: 2\n"
     ]
    }
   ],
   "source": [
    "points = [(4, 5), (-0, 2), (4, 7), (1, -3), (3, -2), (4, 5), (3, 2), (5, 7), (-5, 7), (2, 2), (-4, 5), (0, -2),\n",
    "          (-4, 7), (-1, 3), (-3, 2), (-4, -5), (-3, 2), (5, 7), (5, 7), (2, 2), (9, 9), (-8, -9)]\n",
    "distance_list=[]\n",
    "for x in range(len(points)):\n",
    "    distance=int(((points[x][0]**2)+(points[x][1]**2))**(1/2))\n",
    "    distance_list.append(distance)\n",
    "print(distance_list)\n",
    "\n",
    "far_of_target=[]\n",
    "for x in range(len(distance_list)):\n",
    "    if (distance_list[x]>9):\n",
    "        far_of_target.append(distance_list[x])\n",
    "print(far_of_target)\n",
    "print(\"The number of arrows that won't hit the target is:\",len(far_of_target))"
   ]
  },
  {
   "cell_type": "code",
   "execution_count": 78,
   "metadata": {},
   "outputs": [
    {
     "name": "stdout",
     "output_type": "stream",
     "text": [
      "1446\n"
     ]
    },
    {
     "data": {
      "text/plain": [
       "24"
      ]
     },
     "execution_count": 78,
     "metadata": {},
     "output_type": "execute_result"
    }
   ],
   "source": [
    "temperatures_C = [33, 66, 65, 0, 59, 60, 62, 64, 70, 76, 80, 81, 80, 83, 90, 79, 61, 53, 50, 49, 53, 48, 45, 39]\n",
    "\n",
    "print(sum(temperatures_C))\n",
    "len(temperatures_C)"
   ]
  },
  {
   "cell_type": "code",
   "execution_count": 81,
   "metadata": {},
   "outputs": [
    {
     "name": "stdout",
     "output_type": "stream",
     "text": [
      "[2405.9024999999983, 107.12250000000047, 73.10250000000019, 11761.402499999998, 5.0625, 0.20249999999998977, 9.922500000000214, 45.5625, 308.0025000000004, 803.7225000000013, 1263.802500000001, 1395.0225000000016, 1263.802500000001, 1676.9025000000015, 2867.6025000000013, 1139.0625000000018, 1.8225000000000613, 170.30249999999955, 340.4024999999996, 410.06249999999943, 170.30249999999955, 486.20249999999925, 753.5024999999994, 1463.0624999999989]\n",
      "Standard Deviation °C: 34.71422619042516\n",
      "Standard Deviation °F: 34.71422619042516\n",
      "The relation is: 1.0\n"
     ]
    }
   ],
   "source": [
    "temperatures_C = [33, 66, 65, 0, 59, 60, 62, 64, 70, 76, 80, 81, 80, 83, 90, 79, 61, 53, 50, 49, 53, 48, 45, 39]\n",
    "temperatures_farenheit=[]\n",
    "for x in range(len(temperatures_C)):\n",
    "    temperatures_C[x]=temperatures_C[x]*1.8+32\n",
    "    temperatures_farenheit.append(temperatures_C[x])\n",
    "average_c=sum(temperatures_C)/len(temperatures_C)\n",
    "average_f=sum(temperatures_farenheit)/len(temperatures_farenheit)\n",
    "\n",
    "deviation_c_list=[]\n",
    "deviation_f_list=[]\n",
    "for i in range(len(temperatures_C)):\n",
    "    deviation_c=(temperatures_C[i]-average_c)**2\n",
    "    deviation_c_list.append(deviation_c)\n",
    "    deviation_f=(temperatures_farenheit[i]-average_f)**2\n",
    "    deviation_f_list.append(deviation_f)\n",
    "    \n",
    "C=(sum(deviation_c_list)/len(deviation_c_list))**(1/2)\n",
    "F=(sum(deviation_f_list)/len(deviation_f_list))**(1/2)\n",
    "print(deviation_c_list)\n",
    "print(\"Standard Deviation °C:\",C)\n",
    "print(\"Standard Deviation °F:\",F)\n",
    "print(\"The relation is:\",C/F)"
   ]
  },
  {
   "cell_type": "code",
   "execution_count": 82,
   "metadata": {},
   "outputs": [
    {
     "data": {
      "text/plain": [
       "60.25"
      ]
     },
     "execution_count": 82,
     "metadata": {},
     "output_type": "execute_result"
    }
   ],
   "source": [
    "temperatures_C = [33, 66, 65, 0, 59, 60, 62, 64, 70, 76, 80, 81, 80, 83, 90, 79, 61, 53, 50, 49, 53, 48, 45, 39]\n",
    "sum(temperatures_C)/len(temperatures_C)"
   ]
  },
  {
   "cell_type": "code",
   "execution_count": 96,
   "metadata": {},
   "outputs": [
    {
     "name": "stdout",
     "output_type": "stream",
     "text": [
      "[91.4, 150.8, 149.0, 32.0, 138.2, 140.0, 143.60000000000002, 147.2, 158.0, 168.8, 176.0, 177.8, 176.0, 181.4, 194.0, 174.20000000000002, 141.8, 127.4, 122.0, 120.2, 127.4, 118.4, 113.0, 102.2]\n",
      "Average °C: 60.25\n",
      "Average °F: 140.45\n",
      "The relation Average°C/Average°F is: 0.42897828408686367\n"
     ]
    }
   ],
   "source": [
    "temperatures_C = [33, 66, 65, 0, 59, 60, 62, 64, 70, 76, 80, 81, 80, 83, 90, 79, 61, 53, 50, 49, 53, 48, 45, 39]\n",
    "temperaturesF=0\n",
    "temperatures_farenheit=[]\n",
    "for x in range(len(temperatures_C)):\n",
    "    temperature=(temperatures_C[x]*1.8)+32\n",
    "    temperatures_farenheit.append(temperature)\n",
    "print(temperatures_farenheit)\n",
    "average_c=sum(temperatures_C)/len(temperatures_C)\n",
    "average_f=sum(temperatures_farenheit)/len(temperatures_farenheit)\n",
    "print(\"Average °C:\",average_c)\n",
    "print(\"Average °F:\",average_f)\n",
    "relation=average_c/average_f\n",
    "print(\"The relation Average°C/Average°F is:\",relation)"
   ]
  },
  {
   "cell_type": "code",
   "execution_count": null,
   "metadata": {},
   "outputs": [],
   "source": []
  }
 ],
 "metadata": {
  "kernelspec": {
   "display_name": "Python 3",
   "language": "python",
   "name": "python3"
  },
  "language_info": {
   "codemirror_mode": {
    "name": "ipython",
    "version": 3
   },
   "file_extension": ".py",
   "mimetype": "text/x-python",
   "name": "python",
   "nbconvert_exporter": "python",
   "pygments_lexer": "ipython3",
   "version": "3.8.5"
  }
 },
 "nbformat": 4,
 "nbformat_minor": 4
}
