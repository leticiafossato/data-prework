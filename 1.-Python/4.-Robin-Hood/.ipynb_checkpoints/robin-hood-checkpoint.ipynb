{
 "cells": [
  {
   "cell_type": "markdown",
   "metadata": {},
   "source": [
    "<img src=\"https://bit.ly/2VnXWr2\" width=\"100\" align=\"left\"/>"
   ]
  },
  {
   "cell_type": "markdown",
   "metadata": {},
   "source": [
    "# Robin Hood\n",
    "Robin Hood has entered a competition to win the archery contest in Sherwood. With his bow and arrows, he needs to shoot on a target and try to hit as close as possible to the center.\n",
    "\n",
    "![](images/arrows.jpg)\n",
    "\n",
    "## Context\n",
    "In this challenge, the landing position of arrows shot by archers in the competition will be represented using 2-dimensional coordinates. \n",
    "\n",
    "In the 2-dimensional space, a point can be defined by a pair of values that correspond to the horizontal coordinate (x) and the vertical coordinate (y). For example, in our case, an arrow that hits the center of the archery target will land in position (0, 0) on the coordinate axes. \n",
    "\n",
    "The space can be divided into 4 zones (quadrants): Q1, Q2, Q3, Q4. If a point is in Q1, both its x coordinate and y coordinate are positive. Any point with a null x or y coordinate is considered to not belong to any quadrant. \n",
    "\n",
    "If you want to know more about the cartesian coordinate system, you can check this [link](https://en.wikipedia.org/wiki/Cartesian_coordinate_system). \n",
    "\n",
    "## Tools\n",
    "You don't necessarily need to use all the tools. Maybe you opt to use some of them or completely different ones, they are given to help you shape the exercise. Programming exercises can be solved in many different ways.\n",
    "* Data structures: **lists, sets, tuples**\n",
    "* Conditional statements: **if-elif-else**\n",
    "* Loop: **while/for**\n",
    "* Minimum (optional sorting)\n",
    "\n",
    "## Tasks\n",
    "Robin Hood has hit the following points:"
   ]
  },
  {
   "cell_type": "code",
   "execution_count": null,
   "metadata": {},
   "outputs": [],
   "source": [
    "points = [(4, 5), (-0, 2), (4, 7), (1, -3), (3, -2), (4, 5), (3, 2), (5, 7), (-5, 7), (2, 2), (-4, 5), (0, -2),\n",
    "          (-4, 7), (-1, 3), (-3, 2), (-4, -5), (-3, 2), (5, 7), (5, 7), (2, 2), (9, 9), (-8, -9)]"
   ]
  },
  {
   "cell_type": "markdown",
   "metadata": {},
   "source": [
    "#### 1. Robin Hood is famous for hitting an arrow with another arrow. Find the coordinates of the points where an arrow hits another arrow."
   ]
  },
  {
   "cell_type": "code",
   "execution_count": 1,
   "metadata": {},
   "outputs": [
    {
     "name": "stdout",
     "output_type": "stream",
     "text": [
      "Coordinates of the points where an arrow hits another arrow are: [(4, 5), (-3, 2), (5, 7), (2, 2)]\n"
     ]
    }
   ],
   "source": [
    "points = [(4, 5), (-0, 2), (4, 7), (1, -3), (3, -2), (4, 5), (3, 2), (5, 7), (-5, 7), (2, 2), (-4, 5), (0, -2),\n",
    "          (-4, 7), (-1, 3), (-3, 2), (-4, -5), (-3, 2), (5, 7), (5, 7), (2, 2), (9, 9), (-8, -9)]\n",
    "dictionary={}\n",
    "duplicate=[]\n",
    "for x in points:\n",
    "    if x not in dictionary:\n",
    "        dictionary[x]=1\n",
    "    else:\n",
    "        if(dictionary[x]==1):\n",
    "            duplicate.append(x)\n",
    "            dictionary[x]=dictionary[x]+1\n",
    "print(\"Coordinates of the points where an arrow hits another arrow are:\",duplicate)"
   ]
  },
  {
   "cell_type": "markdown",
   "metadata": {},
   "source": [
    "#### 2. Calculate how many arrows have fallen in each quadrant. \n",
    "**Note**: the arrows that fall in the axis (x=0 or y=0) don't belong to any quadrant."
   ]
  },
  {
   "cell_type": "code",
   "execution_count": 4,
   "metadata": {},
   "outputs": [
    {
     "name": "stdout",
     "output_type": "stream",
     "text": [
      "The quantity of arrows in Q1 is 10\n",
      "The quantity of arrows in Q2 is 6\n",
      "The quantity of arrows in Q3 is 2\n",
      "The quantity of arrows in Q4 is 2\n",
      "The quantity of arrows which don't belong to any quadrant is 2\n"
     ]
    }
   ],
   "source": [
    "points = [(4, 5), (-0, 2), (4, 7), (1, -3), (3, -2), (4, 5), (3, 2), (5, 7), (-5, 7), (2, 2), (-4, 5), (0, -2),\n",
    "          (-4, 7), (-1, 3), (-3, 2), (-4, -5), (-3, 2), (5, 7), (5, 7), (2, 2), (9, 9), (-8, -9)]\n",
    "Q1=[]\n",
    "Q2=[]\n",
    "Q3=[]\n",
    "Q4=[]\n",
    "NOQ=[]\n",
    "for x in range(len(points)): \n",
    "    #Quadrante 1\n",
    "        if((points[x][0]>0)&(points[x][1]>0)):\n",
    "            Q1.append(points[x])\n",
    "    #Quadrante 2\n",
    "        if((points[x][0]<0)&(points[x][1]>0)):\n",
    "            Q2.append(points[x])\n",
    "    #Quadrante 3\n",
    "        if((points[x][0]<0)&(points[x][1]<0)):\n",
    "            Q3.append(points[x])\n",
    "    #Quadrante 4\n",
    "        if((points[x][0]>0)&(points[x][1]<0)):\n",
    "            Q4.append(points[x])\n",
    "    #Don't belong to any quadrant\n",
    "        if((points[x][0]==0)|(points[x][1]==0)):\n",
    "            NOQ.append(points[x])\n",
    "            \n",
    "print(\"The quantity of arrows in Q1 is\",len(Q1))\n",
    "print(\"The quantity of arrows in Q2 is\",len(Q2))\n",
    "print(\"The quantity of arrows in Q3 is\",len(Q3))\n",
    "print(\"The quantity of arrows in Q4 is\",len(Q4))\n",
    "print(\"The quantity of arrows which don't belong to any quadrant is\",len(NOQ))"
   ]
  },
  {
   "cell_type": "markdown",
   "metadata": {},
   "source": [
    "#### 3. Find the point closest to the center. Calculate its distance to the center. \n",
    "Take into account that there might be more than one point at the minimum distance to the center.\n",
    "\n",
    "**Hint**: Use the Euclidean distance. You can find more information about it [here](https://en.wikipedia.org/wiki/Euclidean_distance).  \n",
    "**Hint**: Defining a function that calculates the distance to the center can help."
   ]
  },
  {
   "cell_type": "code",
   "execution_count": 8,
   "metadata": {},
   "outputs": [
    {
     "name": "stdout",
     "output_type": "stream",
     "text": [
      "The point closest to the center is:\n",
      "(0, 2)\n",
      "(0, -2)\n"
     ]
    }
   ],
   "source": [
    "points = [(4, 5), (-0, 2), (4, 7), (1, -3), (3, -2), (4, 5), (3, 2), (5, 7), (-5, 7), (2, 2), (-4, 5), (0, -2),\n",
    "          (-4, 7), (-1, 3), (-3, 2), (-4, -5), (-3, 2), (5, 7), (5, 7), (2, 2), (9, 9), (-8, -9)]\n",
    "distance_list=[]\n",
    "for x in range(len(points)):\n",
    "    distance=((points[x][0]**2)+(points[x][1]**2))**(1/2)\n",
    "    distance_list.append(distance)\n",
    "#print(distance_list)\n",
    "\n",
    "#List which associates each point to your distance:\n",
    "x_list=[]\n",
    "for a in range(len(points)):\n",
    "    x=(points[a],distance_list[a])\n",
    "    x_list.append(x)\n",
    "#print(x_list)\n",
    "\n",
    "#Searching for minimun distance:\n",
    "print(\"The point closest to the center is:\")\n",
    "for b in range(len(x_list)):\n",
    "    if(x_list[b][1]==min(distance_list)):\n",
    "        print(x_list[b][0])"
   ]
  },
  {
   "cell_type": "markdown",
   "metadata": {},
   "source": [
    "#### 4. If the archery target has a radius of 9, calculate the number of arrows that won't hit the target. \n",
    "**Hint**: Use the function created in step 3. "
   ]
  },
  {
   "cell_type": "code",
   "execution_count": 9,
   "metadata": {},
   "outputs": [
    {
     "name": "stdout",
     "output_type": "stream",
     "text": [
      "The number of arrows that won't hit the target is: 2\n"
     ]
    }
   ],
   "source": [
    "points = [(4, 5), (-0, 2), (4, 7), (1, -3), (3, -2), (4, 5), (3, 2), (5, 7), (-5, 7), (2, 2), (-4, 5), (0, -2),\n",
    "          (-4, 7), (-1, 3), (-3, 2), (-4, -5), (-3, 2), (5, 7), (5, 7), (2, 2), (9, 9), (-8, -9)]\n",
    "distance_list=[]\n",
    "for x in range(len(points)):\n",
    "    distance=int(((points[x][0]**2)+(points[x][1]**2))**(1/2))\n",
    "    distance_list.append(distance)\n",
    "#print(distance_list)\n",
    "\n",
    "far_of_target=[]\n",
    "for x in range(len(distance_list)):\n",
    "    if (distance_list[x]>9):\n",
    "        far_of_target.append(distance_list[x])\n",
    "#print(far_of_target)\n",
    "print(\"The number of arrows that won't hit the target is:\",len(far_of_target))"
   ]
  }
 ],
 "metadata": {
  "kernelspec": {
   "display_name": "Python 3",
   "language": "python",
   "name": "python3"
  },
  "language_info": {
   "codemirror_mode": {
    "name": "ipython",
    "version": 3
   },
   "file_extension": ".py",
   "mimetype": "text/x-python",
   "name": "python",
   "nbconvert_exporter": "python",
   "pygments_lexer": "ipython3",
   "version": "3.8.5"
  }
 },
 "nbformat": 4,
 "nbformat_minor": 2
}
